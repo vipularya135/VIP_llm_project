{
 "cells": [
  {
   "cell_type": "code",
   "execution_count": 5,
   "metadata": {},
   "outputs": [
    {
     "name": "stdout",
     "output_type": "stream",
     "text": [
      "Top 10 Research Interests:\n",
      "Artificial Intelligence: 247\n",
      "Materials Science: 193\n",
      "Environmental Science: 163\n",
      "Condensed Matter Physics: 138\n",
      "Power Systems: 120\n",
      "Signal Processing: 102\n",
      "Renewable Energy: 96\n",
      "Renewable Energy Systems: 90\n",
      "Cancer Biology: 82\n",
      "Data Science: 82\n"
     ]
    }
   ],
   "source": [
    "import pandas as pd\n",
    "\n",
    "# Load the CSV file\n",
    "df = pd.read_csv(r'C:\\Users\\krish\\Desktop\\sem6\\llm\\project\\4_updated_professor_data.csv')\n",
    "\n",
    "# Get the top 10 most frequent values in the 'Research Interest 1' column\n",
    "top_10_values = df['Research Interest 1'].value_counts().head(10)\n",
    "\n",
    "# Print the top 10 values with their counts\n",
    "print(\"Top 10 Research Interests:\")\n",
    "for value, count in top_10_values.items():\n",
    "    print(f\"{value}: {count}\")"
   ]
  },
  {
   "cell_type": "code",
   "execution_count": 3,
   "metadata": {},
   "outputs": [
    {
     "name": "stdout",
     "output_type": "stream",
     "text": [
      "Number of unique values: 1181\n"
     ]
    }
   ],
   "source": [
    "import pandas as pd\n",
    "\n",
    "# Load the CSV file\n",
    "df = pd.read_csv(r'C:\\Users\\krish\\Desktop\\sem6\\llm\\project\\4_updated_professor_data.csv')\n",
    "\n",
    "# Get all unique values in the 'Research Interest 1' column\n",
    "unique_values = df['Research Interest 1'].unique()\n",
    "\n",
    "# Print the number of unique values\n",
    "print(f\"Number of unique values: {len(unique_values)}\")"
   ]
  }
 ],
 "metadata": {
  "kernelspec": {
   "display_name": "Python 3",
   "language": "python",
   "name": "python3"
  },
  "language_info": {
   "codemirror_mode": {
    "name": "ipython",
    "version": 3
   },
   "file_extension": ".py",
   "mimetype": "text/x-python",
   "name": "python",
   "nbconvert_exporter": "python",
   "pygments_lexer": "ipython3",
   "version": "3.13.2"
  }
 },
 "nbformat": 4,
 "nbformat_minor": 2
}
