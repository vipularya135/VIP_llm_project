{
 "cells": [
  {
   "cell_type": "code",
   "execution_count": null,
   "metadata": {},
   "outputs": [],
   "source": [
    "import requests\n",
    "from bs4 import BeautifulSoup\n",
    "import pandas as pd "
   ]
  },
  {
   "cell_type": "code",
   "execution_count": 2,
   "metadata": {},
   "outputs": [
    {
     "data": {
      "text/plain": [
       "<Response [200]>"
      ]
     },
     "execution_count": 2,
     "metadata": {},
     "output_type": "execute_result"
    }
   ],
   "source": [
    "webpage = requests.get(\"https://www.nirfindia.org/Rankings/2024/EngineeringRanking.html\")\n",
    "webpage\n"
   ]
  },
  {
   "cell_type": "code",
   "execution_count": 3,
   "metadata": {},
   "outputs": [],
   "source": [
    "soup = BeautifulSoup(webpage.content)\n"
   ]
  },
  {
   "cell_type": "code",
   "execution_count": 4,
   "metadata": {},
   "outputs": [
    {
     "name": "stdout",
     "output_type": "stream",
     "text": [
      "<!DOCTYPE html>\n",
      "<html>\n",
      " <head>\n",
      "  <script async=\"\" src=\"//www.google-analytics.com/analytics.js\">\n",
      "  </script>\n",
      "  <script>\n",
      "   (function (i, s, o, g, r, a, m) {i['GoogleAnalyticsObject'] = r; i[r] = i[r] || function () {(i[r].q = i[r].q || []).push(arguments)}, i[r].l = 1 * new Date(); a = s.createElement(o),m = s.getElementsByTagName(o)[0]; a.async = 1; a.src = g; m.parentNode.insertBefore(a, m)})(window, document, 'script', '//www.google-analytics.com/analytics.js', 'ga');ga('create', 'UA-75867016-1', 'auto');ga('send', 'pageview');\n",
      "  </script>\n",
      "  <meta content=\"text/html; charset=utf-8\" http-equiv=\"Content-Type\"/>\n",
      "  <title>\n",
      "   MoE, National Institute Ranking Framework (NIRF)\n",
      "  </title>\n",
      "  <link href=\"https://www.nirfindia.org/css/style.css\" rel=\"stylesheet\" type=\"text/css\"/>\n",
      "  <script src=\"https://www.nirfindia.org/js/modernizr.js\" type=\"text/javascript\">\n",
      "  </script>\n",
      "  <script src=\"https://www.nirfindia.org/js/jquery-min.js\" type=\"text/javascript\">\n",
      "  </script>\n",
      "  <script src=\"https://www.n\n"
     ]
    }
   ],
   "source": [
    "print(soup.prettify()[:1000])"
   ]
  },
  {
   "cell_type": "code",
   "execution_count": 5,
   "metadata": {},
   "outputs": [],
   "source": [
    "e_id = []\n",
    "for i in range(0,1100,11):\n",
    "    e_id.append(soup.find_all(\"td\")[i].text)\n",
    "\n",
    "e_name = []\n",
    "for i in range(1,1100,11):\n",
    "    e_name.append(soup.find_all(\"td\")[i].text.split(\"More\")[0])\n",
    "\n",
    "e_TLR = []\n",
    "for i in range(2,1100,11):\n",
    "    e_TLR.append(soup.find_all(\"td\")[i].text)\n",
    "\n",
    "e_RPC = []\n",
    "for i in range(3,1100,11):\n",
    "    e_RPC.append(soup.find_all(\"td\")[i].text)\n",
    "\n",
    "\n",
    "e_GO = []\n",
    "for i in range(4,1100,11):\n",
    "    e_GO.append(soup.find_all(\"td\")[i].text)\n",
    "\n",
    "\n",
    "e_OI = []\n",
    "for i in range(5,1100,11):\n",
    "    e_OI.append(soup.find_all(\"td\")[i].text)\n",
    "\n",
    "\n",
    "e_PERCEPTION = []\n",
    "for i in range(6,1100,11):\n",
    "    e_PERCEPTION.append(soup.find_all(\"td\")[i].text)\n",
    "\n",
    "\n",
    "e_city = []\n",
    "for i in range(7,1100,11):\n",
    "    e_city.append(soup.find_all(\"td\")[i].text)\n",
    "\n",
    "\n",
    "e_state = []\n",
    "for i in range(8,1100,11):\n",
    "    e_state.append(soup.find_all(\"td\")[i].text)\n",
    "\n",
    "\n",
    "e_score = []\n",
    "for i in range(9,1100,11):\n",
    "    e_score.append(soup.find_all(\"td\")[i].text)\n",
    "\n",
    "\n",
    "e_rank = []\n",
    "for i in range(10,1100,11):\n",
    "    e_rank.append(soup.find_all(\"td\")[i].text)\n",
    "    \n",
    "\n",
    "field = []\n",
    "for i in range(100):\n",
    "    field.append(\"Engineering\")\n",
    "\n",
    "e_df = pd.DataFrame({\"Name\":e_name,\n",
    "                   \"City\":e_city,\n",
    "                   \"State\":e_state,\n",
    "                   \"Rank\":e_rank,\"Field\":field})"
   ]
  },
  {
   "cell_type": "code",
   "execution_count": 6,
   "metadata": {},
   "outputs": [
    {
     "data": {
      "text/html": [
       "<div>\n",
       "<style scoped>\n",
       "    .dataframe tbody tr th:only-of-type {\n",
       "        vertical-align: middle;\n",
       "    }\n",
       "\n",
       "    .dataframe tbody tr th {\n",
       "        vertical-align: top;\n",
       "    }\n",
       "\n",
       "    .dataframe thead th {\n",
       "        text-align: right;\n",
       "    }\n",
       "</style>\n",
       "<table border=\"1\" class=\"dataframe\">\n",
       "  <thead>\n",
       "    <tr style=\"text-align: right;\">\n",
       "      <th></th>\n",
       "      <th>Name</th>\n",
       "      <th>City</th>\n",
       "      <th>State</th>\n",
       "      <th>Rank</th>\n",
       "      <th>Field</th>\n",
       "    </tr>\n",
       "  </thead>\n",
       "  <tbody>\n",
       "    <tr>\n",
       "      <th>0</th>\n",
       "      <td>Indian Institute of Technology Madras</td>\n",
       "      <td>Chennai</td>\n",
       "      <td>Tamil Nadu</td>\n",
       "      <td>1</td>\n",
       "      <td>Engineering</td>\n",
       "    </tr>\n",
       "    <tr>\n",
       "      <th>1</th>\n",
       "      <td>Indian Institute of Technology Delhi</td>\n",
       "      <td>New Delhi</td>\n",
       "      <td>Delhi</td>\n",
       "      <td>2</td>\n",
       "      <td>Engineering</td>\n",
       "    </tr>\n",
       "    <tr>\n",
       "      <th>2</th>\n",
       "      <td>Indian Institute of Technology Bombay</td>\n",
       "      <td>Mumbai</td>\n",
       "      <td>Maharashtra</td>\n",
       "      <td>3</td>\n",
       "      <td>Engineering</td>\n",
       "    </tr>\n",
       "    <tr>\n",
       "      <th>3</th>\n",
       "      <td>Indian Institute of Technology Kanpur</td>\n",
       "      <td>Kanpur</td>\n",
       "      <td>Uttar Pradesh</td>\n",
       "      <td>4</td>\n",
       "      <td>Engineering</td>\n",
       "    </tr>\n",
       "    <tr>\n",
       "      <th>4</th>\n",
       "      <td>Indian Institute of Technology Kharagpur</td>\n",
       "      <td>Kharagpur</td>\n",
       "      <td>West Bengal</td>\n",
       "      <td>5</td>\n",
       "      <td>Engineering</td>\n",
       "    </tr>\n",
       "  </tbody>\n",
       "</table>\n",
       "</div>"
      ],
      "text/plain": [
       "                                       Name       City          State Rank  \\\n",
       "0     Indian Institute of Technology Madras    Chennai     Tamil Nadu    1   \n",
       "1      Indian Institute of Technology Delhi  New Delhi          Delhi    2   \n",
       "2     Indian Institute of Technology Bombay     Mumbai    Maharashtra    3   \n",
       "3     Indian Institute of Technology Kanpur     Kanpur  Uttar Pradesh    4   \n",
       "4  Indian Institute of Technology Kharagpur  Kharagpur    West Bengal    5   \n",
       "\n",
       "         Field  \n",
       "0  Engineering  \n",
       "1  Engineering  \n",
       "2  Engineering  \n",
       "3  Engineering  \n",
       "4  Engineering  "
      ]
     },
     "execution_count": 6,
     "metadata": {},
     "output_type": "execute_result"
    }
   ],
   "source": [
    "e_df.head()\n"
   ]
  },
  {
   "cell_type": "code",
   "execution_count": 7,
   "metadata": {},
   "outputs": [
    {
     "data": {
      "text/plain": [
       "(100, 5)"
      ]
     },
     "execution_count": 7,
     "metadata": {},
     "output_type": "execute_result"
    }
   ],
   "source": [
    "e_df.shape\n"
   ]
  },
  {
   "cell_type": "code",
   "execution_count": 9,
   "metadata": {},
   "outputs": [
    {
     "name": "stdout",
     "output_type": "stream",
     "text": [
      "File saved successfully at top100_Engineering_Colleges.txt\n"
     ]
    }
   ],
   "source": [
    "# Extract the 'Name' column\n",
    "names = e_df['Name']\n",
    "\n",
    "# Define the file path\n",
    "file_path = \"top100_Engineering_Colleges.txt\"\n",
    "\n",
    "# Save to a text file\n",
    "with open(file_path, \"w\", encoding=\"utf-8\") as f:\n",
    "    for name in names:\n",
    "        f.write(name + \"\\n\")\n",
    "\n",
    "print(f\"File saved successfully at {file_path}\")\n"
   ]
  }
 ],
 "metadata": {
  "kernelspec": {
   "display_name": "Python 3",
   "language": "python",
   "name": "python3"
  },
  "language_info": {
   "codemirror_mode": {
    "name": "ipython",
    "version": 3
   },
   "file_extension": ".py",
   "mimetype": "text/x-python",
   "name": "python",
   "nbconvert_exporter": "python",
   "pygments_lexer": "ipython3",
   "version": "3.13.1"
  }
 },
 "nbformat": 4,
 "nbformat_minor": 2
}
